{
 "cells": [
  {
   "cell_type": "markdown",
   "id": "13592e16-5ce1-4fd3-95af-ebc1d6262614",
   "metadata": {},
   "source": [
    "During the test on 8/27/24 I noticed there are changes in lat, lon position that appear to be 'jumps' that are beyond the physical limits of the tractor.  The RTK status is 2 so these changes are unexpected.  I need to calculate the acceleration required between lat, lon data points, calculate the g forces those changes would correlate to and somehow filter the changes similar to what I did with speed data for the left and right speed sensors.  In this case not only will I have to track the speed, but also the heading and calculate a likely position instead of the anomolous one."
   ]
  },
  {
   "cell_type": "code",
   "execution_count": null,
   "id": "b4f2c86d-497a-43ef-96f6-7df9ada37d0c",
   "metadata": {},
   "outputs": [],
   "source": []
  }
 ],
 "metadata": {
  "kernelspec": {
   "display_name": "Python 3 (ipykernel)",
   "language": "python",
   "name": "python3"
  },
  "language_info": {
   "codemirror_mode": {
    "name": "ipython",
    "version": 3
   },
   "file_extension": ".py",
   "mimetype": "text/x-python",
   "name": "python",
   "nbconvert_exporter": "python",
   "pygments_lexer": "ipython3",
   "version": "3.8.10"
  }
 },
 "nbformat": 4,
 "nbformat_minor": 5
}
